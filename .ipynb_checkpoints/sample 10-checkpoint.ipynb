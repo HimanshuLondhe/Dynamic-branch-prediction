{
 "cells": [
  {
   "cell_type": "code",
   "execution_count": 1,
   "metadata": {},
   "outputs": [],
   "source": [
    "import random\n",
    "DEBUG     = 0\n",
    "LVQ_DEBUG = 0\n",
    "ITERATION = 5000\n",
    "NUM_OF_SAMPLES = 15\n",
    "NUM_OF_BRANCHES = 10\n",
    "HISTORY         = 5"
   ]
  },
  {
   "cell_type": "code",
   "execution_count": 2,
   "metadata": {},
   "outputs": [],
   "source": [
    "def branches(i):\n",
    "\tarr = [-1]*NUM_OF_BRANCHES\n",
    "\t\n",
    "\tif (i**2) == 36:\n",
    "\t\ti = i ** 2\n",
    "\t\tarr[0] = 1\n",
    "\n",
    "\t\tif (i%3) == 1:\n",
    "\t\t\ti += 1\n",
    "\t\t\tarr[1] = 1\n",
    "\n",
    "\tif (i%6) == 1:\n",
    "\t\ti *= 2\n",
    "\t\tarr[2] = 1\n",
    "\n",
    "\tif (i * 2 == 26):\n",
    "\t\ti = 1\n",
    "\t\tarr[3] = 1\n",
    "\n",
    "\t\tif (i+3*2) // 4 == 36:\n",
    "\t\t\ti = i*4\n",
    "\t\t\tarr[4] = 1\n",
    "\n",
    "\tif (i//2 == 0):\n",
    "\t\ti *= 4\n",
    "\t\tarr[5] = 1\n",
    "\n",
    "\tif (i* 4 == 16):\n",
    "\t\ti = 2\n",
    "\t\tarr[6] = 1\n",
    "\n",
    "\n",
    "\tif (i+16-12) == 67:\n",
    "\t\ti += 4\n",
    "\t\tarr[7] = 1\n",
    "\n",
    "\t\tif (i-1%10 != 0):\n",
    "\t\t\ti -= 1\n",
    "\t\t\tarr[8] = 1\n",
    "\n",
    "\t\tif ((i+3)%2 == 1):\n",
    "\t\t\ti = i + 3\n",
    "\t\t\tarr[9] = 1\n",
    "\t\t\n",
    "\treturn arr"
   ]
  },
  {
   "cell_type": "code",
   "execution_count": 3,
   "metadata": {},
   "outputs": [],
   "source": [
    "def runCode():\n",
    "\tallPredictions = []\n",
    "\tfor _ in range(ITERATION):\n",
    "\t\tiVal = random.randint(150,450)\n",
    "\t\tallPredictions.append(branches(iVal))\n",
    "\treturn allPredictions"
   ]
  },
  {
   "cell_type": "code",
   "execution_count": null,
   "metadata": {},
   "outputs": [],
   "source": []
  }
 ],
 "metadata": {
  "kernelspec": {
   "display_name": "Python 3",
   "language": "python",
   "name": "python3"
  },
  "language_info": {
   "codemirror_mode": {
    "name": "ipython",
    "version": 3
   },
   "file_extension": ".py",
   "mimetype": "text/x-python",
   "name": "python",
   "nbconvert_exporter": "python",
   "pygments_lexer": "ipython3",
   "version": "3.7.4"
  }
 },
 "nbformat": 4,
 "nbformat_minor": 2
}
