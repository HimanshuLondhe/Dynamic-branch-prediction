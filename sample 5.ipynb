{
 "cells": [
  {
   "cell_type": "code",
   "execution_count": 1,
   "metadata": {},
   "outputs": [],
   "source": [
    "import random\n",
    "DEBUG     = 0\n",
    "LVQ_DEBUG = 0\n",
    "ITERATION = 600\n",
    "NUM_OF_SAMPLES = 9\n",
    "NUM_OF_BRANCHES = 10\n",
    "HISTORY         = 5"
   ]
  },
  {
   "cell_type": "code",
   "execution_count": 3,
   "metadata": {},
   "outputs": [],
   "source": [
    "def branches(i):\n",
    "    arr = [-1]*NUM_OF_BRANCHES\n",
    "    \n",
    "    if (i%2) == 0:\n",
    "        i += 1\n",
    "        arr[0] = 1\n",
    "\n",
    "        if (i%4) == 1:\n",
    "            i *= 2\n",
    "            arr[1] = 1\n",
    "\n",
    "    if (i * 2 == 2):\n",
    "        i = 1\n",
    "        arr[2] = 1\n",
    "\n",
    "    if (i//2 == 0):\n",
    "        i *= 4\n",
    "        arr[3] = 1\n",
    "\n",
    "    if (i* 4 == 16):\n",
    "        i = 2\n",
    "        arr[4] = 1\n",
    "\n",
    "        if ((i+3)%2 == 1):\n",
    "            i = i + 3\n",
    "            arr[5] = 1\n",
    "\n",
    "    return arr"
   ]
  },
  {
   "cell_type": "code",
   "execution_count": null,
   "metadata": {},
   "outputs": [],
   "source": [
    "def runCode():\n",
    "    allPredictions = []\n",
    "    for _ in range(ITERATION):\n",
    "        iVal = random.randint(0,100)\n",
    "        allPredictions.append(branches(iVal))\n",
    "    return allPredictions"
   ]
  }
 ],
 "metadata": {
  "kernelspec": {
   "display_name": "Python 3",
   "language": "python",
   "name": "python3"
  },
  "language_info": {
   "codemirror_mode": {
    "name": "ipython",
    "version": 3
   },
   "file_extension": ".py",
   "mimetype": "text/x-python",
   "name": "python",
   "nbconvert_exporter": "python",
   "pygments_lexer": "ipython3",
   "version": "3.7.4"
  }
 },
 "nbformat": 4,
 "nbformat_minor": 2
}
