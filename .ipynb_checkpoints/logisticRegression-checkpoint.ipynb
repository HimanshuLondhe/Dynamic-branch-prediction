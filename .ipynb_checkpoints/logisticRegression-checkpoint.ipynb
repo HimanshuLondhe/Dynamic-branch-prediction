{
 "cells": [
  {
   "cell_type": "code",
   "execution_count": 1,
   "metadata": {},
   "outputs": [],
   "source": [
    "import math"
   ]
  },
  {
   "cell_type": "code",
   "execution_count": 2,
   "metadata": {},
   "outputs": [],
   "source": [
    "DEBUG     = 0\n",
    "LVQ_DEBUG = 0\n",
    "ITERATION = 600\n",
    "NUM_OF_SAMPLES = 9\n",
    "NUM_OF_BRANCHES = 10\n",
    "HISTORY         = 5"
   ]
  },
  {
   "cell_type": "code",
   "execution_count": 3,
   "metadata": {},
   "outputs": [],
   "source": [
    "weights \t= [[0]*NUM_OF_BRANCHES for _ in range(NUM_OF_BRANCHES)]\n",
    "gradient \t= [0]*NUM_OF_BRANCHES"
   ]
  },
  {
   "cell_type": "code",
   "execution_count": 4,
   "metadata": {},
   "outputs": [],
   "source": [
    "def getGHR(ghr):\n",
    "    GHR = []\n",
    "    GHR = ghr\n",
    "    return GHR"
   ]
  },
  {
   "cell_type": "code",
   "execution_count": 5,
   "metadata": {},
   "outputs": [],
   "source": [
    "def sigmoid(val):\n",
    "    if val < 0:\n",
    "        return 1 - 1/float(1+math.exp(val))\n",
    "    val = -1*val\n",
    "    return 1 /float(1 + math.exp(val))"
   ]
  },
  {
   "cell_type": "code",
   "execution_count": 6,
   "metadata": {},
   "outputs": [],
   "source": [
    "def helperPredict(GHR, branchNo):\n",
    "    inp = GHR\n",
    "    wx = 0\n",
    "\n",
    "    for i in range(len(inp)):\n",
    "        wx += inp[i]*weights[branchNo][i]\n",
    "\n",
    "    prediction = sigmoid(wx)\n",
    "\n",
    "    prediction = -1 if prediction < 0.2 else 1\n",
    "\n",
    "    return prediction"
   ]
  },
  {
   "cell_type": "code",
   "execution_count": 7,
   "metadata": {},
   "outputs": [],
   "source": [
    "def LRPredict(GHR):\n",
    "    return [helperPredict(GHR, i) for i in range(NUM_OF_BRANCHES)]"
   ]
  },
  {
   "cell_type": "code",
   "execution_count": 8,
   "metadata": {},
   "outputs": [],
   "source": [
    "def helperLearn(actual, pred, x, branchNo):\n",
    "    eta = 0.5\n",
    "    inp = x\n",
    "    error = actual - pred\n",
    "\n",
    "    for i in range(len(inp)):\n",
    "        gradient[i] += error*inp[i]\n",
    "\n",
    "    for i in range(len(weights[branchNo])):\n",
    "        weights[branchNo][i] += eta*gradient[i]"
   ]
  },
  {
   "cell_type": "code",
   "execution_count": 9,
   "metadata": {},
   "outputs": [],
   "source": [
    "def LRLearn(x, y):\n",
    "    predictions = LRPredict(x)\n",
    "\n",
    "    for branchNo in range(NUM_OF_BRANCHES):\n",
    "        actual = y[branchNo]\n",
    "        pred = predictions[branchNo]\n",
    "        helperLearn(actual, pred, x, branchNo)"
   ]
  },
  {
   "cell_type": "code",
   "execution_count": null,
   "metadata": {},
   "outputs": [],
   "source": []
  }
 ],
 "metadata": {
  "kernelspec": {
   "display_name": "Python 3",
   "language": "python",
   "name": "python3"
  },
  "language_info": {
   "codemirror_mode": {
    "name": "ipython",
    "version": 3
   },
   "file_extension": ".py",
   "mimetype": "text/x-python",
   "name": "python",
   "nbconvert_exporter": "python",
   "pygments_lexer": "ipython3",
   "version": "3.7.4"
  }
 },
 "nbformat": 4,
 "nbformat_minor": 2
}
