{
 "cells": [
  {
   "cell_type": "code",
   "execution_count": 1,
   "metadata": {},
   "outputs": [],
   "source": [
    "DEBUG     = 0\n",
    "LVQ_DEBUG = 0\n",
    "ITERATION = 600\n",
    "NUM_OF_SAMPLES = 9\n",
    "NUM_OF_BRANCHES = 10\n",
    "HISTORY         = 5"
   ]
  },
  {
   "cell_type": "code",
   "execution_count": 2,
   "metadata": {},
   "outputs": [],
   "source": [
    "WEIGHTS     = [[0] * NUM_OF_BRANCHES for _ in range(NUM_OF_BRANCHES)]\n",
    "BIAS        = [0] * NUM_OF_BRANCHES"
   ]
  },
  {
   "cell_type": "code",
   "execution_count": 3,
   "metadata": {},
   "outputs": [],
   "source": [
    "def PPredict(x):\n",
    "    y_cap = [0] * NUM_OF_BRANCHES\n",
    "\n",
    "    for i in range(NUM_OF_BRANCHES):\n",
    "        W = WEIGHTS[i]\n",
    "        B = BIAS[i]\n",
    "\n",
    "        dot_p = sum([x[i] * W[i] for i in range(len(x))])\n",
    "        dot_p = dot_p + B * 1\n",
    "        y_cap[i] = 1 if dot_p > 0 else -1\n",
    "\n",
    "    return y_cap"
   ]
  },
  {
   "cell_type": "code",
   "execution_count": 4,
   "metadata": {},
   "outputs": [],
   "source": [
    "def PLearn(x, y):\n",
    "    for i in range(NUM_OF_BRANCHES):\n",
    "        W = WEIGHTS[i]\n",
    "        B = BIAS[i]\n",
    "\n",
    "        dot_p = sum([x[i] * W[i] for i in range(len(x))])\n",
    "        dot_p = dot_p + B * 1\n",
    "        y_cap = 1 if dot_p > 0 else -1\n",
    "\n",
    "        if (y[i] * y_cap) == -1:\n",
    "            W = [W[i] + y[i] * x[i] for i in range(len(x))]\n",
    "            B = B + y[i]"
   ]
  },
  {
   "cell_type": "code",
   "execution_count": null,
   "metadata": {},
   "outputs": [],
   "source": []
  }
 ],
 "metadata": {
  "kernelspec": {
   "display_name": "Python 3",
   "language": "python",
   "name": "python3"
  },
  "language_info": {
   "codemirror_mode": {
    "name": "ipython",
    "version": 3
   },
   "file_extension": ".py",
   "mimetype": "text/x-python",
   "name": "python",
   "nbconvert_exporter": "python",
   "pygments_lexer": "ipython3",
   "version": "3.7.4"
  }
 },
 "nbformat": 4,
 "nbformat_minor": 2
}
