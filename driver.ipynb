{
 "cells": [
  {
   "cell_type": "code",
   "execution_count": 19,
   "metadata": {},
   "outputs": [],
   "source": [
    "import import_ipynb"
   ]
  },
  {
   "cell_type": "code",
   "execution_count": 20,
   "metadata": {},
   "outputs": [],
   "source": [
    "import pickle\n",
    "import numpy as np\n",
    "import logisticRegression as lr\n",
    "import perceptron as pt\n",
    "import learningVectorQuantization as lvq\n",
    "from collections import deque"
   ]
  },
  {
   "cell_type": "code",
   "execution_count": 21,
   "metadata": {},
   "outputs": [],
   "source": [
    "DEBUG     = 0\n",
    "LVQ_DEBUG = 0\n",
    "ITERATION = 600\n",
    "NUM_OF_SAMPLES = 9\n",
    "NUM_OF_BRANCHES = 10\n",
    "HISTORY         = 5"
   ]
  },
  {
   "cell_type": "code",
   "execution_count": 22,
   "metadata": {},
   "outputs": [],
   "source": [
    "class BranchPredictor(object):\n",
    "\n",
    "    def __init__(self):\n",
    "        self.GHR          = [0]*NUM_OF_BRANCHES\n",
    "        self.GHR_HISTORY  = [deque([-1]*HISTORY) for _ in range(NUM_OF_BRANCHES)]\n",
    "        self.p_pred       = [0]*NUM_OF_BRANCHES\n",
    "        self.lr_pred      = [0]*NUM_OF_BRANCHES\n",
    "        self.lvq_pred     = [0]*NUM_OF_BRANCHES\n",
    "        self.accuracy     = {\"perceptron\" : 0, \n",
    "                             \"logistic\"   : 0,\n",
    "                             \"LVQ\"        : 0\n",
    "                            }\n",
    "\n",
    "    def perceptron_predict(self):\n",
    "        self.p_pred = pt.PPredict(self.GHR)\n",
    "\n",
    "    def perceptron_learn(self, actualOutput):\n",
    "        pt.PLearn(self.GHR, actualOutput)\n",
    "\n",
    "    def lr_predict(self):\n",
    "        self.lr_pred = lr.LRPredict(self.GHR)\n",
    "\n",
    "    def lr_learn(self, actOutput):\n",
    "        lr.LRLearn(self.GHR, actOutput)\n",
    "\n",
    "    def lvq_predict(self):\n",
    "        self.lvq_pred = lvq.LVQPredict(self.GHR_HISTORY)\n",
    "\n",
    "    def lvq_learn(self, actualOutput):\n",
    "        lvq.LVQLearn(self.GHR_HISTORY, actualOutput)\n",
    "\n",
    "    def updateGHR(self, output):\n",
    "        for i in range(NUM_OF_BRANCHES):\n",
    "            self.GHR[i] += output[i]\n",
    "            self.GHR_HISTORY[i].append(output[i])\n",
    "            self.GHR_HISTORY[i].popleft()\n",
    "        if(DEBUG):\n",
    "            print(self.GHR_HISTORY[0])\n",
    "\n",
    "    def calculateDiff(self, output):\n",
    "        if(DEBUG):\n",
    "            print(\"ACTUAL \",   self.p_pred)\n",
    "            print(\"EXPECTED \", output     )\n",
    "        self.accuracy[\"perceptron\"] += sum(map(lambda x, y : x*y==1, self.p_pred,   output)) / NUM_OF_BRANCHES\n",
    "        self.accuracy[\"logistic\"]   += sum(map(lambda x, y : x*y==1, self.lr_pred,  output)) / NUM_OF_BRANCHES\n",
    "        self.accuracy[\"LVQ\"]        += sum(map(lambda x, y : x*y==1, self.lvq_pred, output)) / NUM_OF_BRANCHES\n",
    "\n",
    "    def calculateAccuracy(self, iterations):\n",
    "        print(\"The Accuracies of the models for \",iterations, \" iterations are: \")\n",
    "        print(\" Perceptron                   : \", self.accuracy[\"perceptron\"] / iterations)\n",
    "        print(\" Logistic Regression          : \", self.accuracy[\"logistic\"]   / iterations) \n",
    "        print(\" Learning Vector Quantization : \", self.accuracy[\"LVQ\"]        / iterations)\n",
    "        # print (self.accuracy)"
   ]
  },
  {
   "cell_type": "code",
   "execution_count": 23,
   "metadata": {},
   "outputs": [],
   "source": [
    "bp = BranchPredictor()"
   ]
  },
  {
   "cell_type": "code",
   "execution_count": 24,
   "metadata": {},
   "outputs": [],
   "source": [
    "for s in range(NUM_OF_SAMPLES):\n",
    "    sampleName = \"sample \" + str(s+1)\n",
    "    module = __import__(sampleName)\n",
    "\n",
    "    for _ in range(ITERATION):\n",
    "\n",
    "        # Get the 3 predictions\n",
    "        bp.perceptron_predict()\n",
    "        bp.lr_predict()\n",
    "        bp.lvq_predict()\n",
    "\n",
    "        # Run the actual Code\n",
    "        actualOutput = module.runCode()\n",
    "        actualOutput = actualOutput[0]\n",
    "\n",
    "        # Send the actual O/P to model for updation\n",
    "        bp.perceptron_learn(actualOutput)\n",
    "        bp.lr_learn(actualOutput)\n",
    "        bp.lvq_learn(actualOutput)\n",
    "        bp.calculateDiff(actualOutput)\n",
    "\n",
    "        # Update GHR for next iterations\n",
    "        bp.updateGHR(actualOutput)"
   ]
  },
  {
   "cell_type": "code",
   "execution_count": 7,
   "metadata": {},
   "outputs": [
    {
     "name": "stdout",
     "output_type": "stream",
     "text": [
      "The Accuracies of the models for  9000  iterations are: \n",
      " Perceptron                   :  0.9190888888888655\n",
      " Logistic Regression          :  0.8596555555555392\n",
      " Learning Vector Quantization :  0.9272555555555387\n"
     ]
    }
   ],
   "source": [
    "bp.calculateAccuracy(ITERATION*NUM_OF_SAMPLES)"
   ]
  },
  {
   "cell_type": "code",
   "execution_count": null,
   "metadata": {},
   "outputs": [],
   "source": []
  }
 ],
 "metadata": {
  "kernelspec": {
   "display_name": "Python 3",
   "language": "python",
   "name": "python3"
  },
  "language_info": {
   "codemirror_mode": {
    "name": "ipython",
    "version": 3
   },
   "file_extension": ".py",
   "mimetype": "text/x-python",
   "name": "python",
   "nbconvert_exporter": "python",
   "pygments_lexer": "ipython3",
   "version": "3.7.4"
  }
 },
 "nbformat": 4,
 "nbformat_minor": 2
}
