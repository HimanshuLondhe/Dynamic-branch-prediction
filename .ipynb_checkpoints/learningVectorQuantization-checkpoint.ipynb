{
 "cells": [
  {
   "cell_type": "code",
   "execution_count": 2,
   "metadata": {},
   "outputs": [],
   "source": [
    "from random import randint"
   ]
  },
  {
   "cell_type": "code",
   "execution_count": 3,
   "metadata": {},
   "outputs": [],
   "source": [
    "DEBUG     = 0\n",
    "LVQ_DEBUG = 0\n",
    "ITERATION = 600\n",
    "NUM_OF_SAMPLES = 9\n",
    "NUM_OF_BRANCHES = 10\n",
    "HISTORY         = 5"
   ]
  },
  {
   "cell_type": "code",
   "execution_count": 4,
   "metadata": {},
   "outputs": [],
   "source": [
    "REF_VECTORS = 2\n",
    "ETA        = 0.5"
   ]
  },
  {
   "cell_type": "code",
   "execution_count": 5,
   "metadata": {},
   "outputs": [],
   "source": [
    "weights = [ [ [-1]*HISTORY, [1]*HISTORY ] for _ in range(NUM_OF_BRANCHES) ] "
   ]
  },
  {
   "cell_type": "code",
   "execution_count": 6,
   "metadata": {},
   "outputs": [],
   "source": [
    "def euclideanSqrDist(v1, v2):\n",
    "    return sum([(x-y)**2 for x,y in zip(v1,v2)])\n",
    "\n",
    "def closestVector(branch, i):\n",
    "    return (1 , -1)[euclideanSqrDist(branch, weights[i][0]) < euclideanSqrDist(branch, weights[i][1])]"
   ]
  },
  {
   "cell_type": "code",
   "execution_count": 7,
   "metadata": {},
   "outputs": [],
   "source": [
    "def LVQPredict(bHist):\n",
    "    predictions = [0]*NUM_OF_BRANCHES\n",
    "\n",
    "    for i,branch in enumerate(bHist):\n",
    "        predictions[i] = closestVector(branch, i)\n",
    "\n",
    "    if(LVQ_DEBUG):\n",
    "        print(predictions)\n",
    "    return predictions"
   ]
  },
  {
   "cell_type": "code",
   "execution_count": 8,
   "metadata": {},
   "outputs": [],
   "source": [
    "def LVQLearn( bHist, actualOutput ):\n",
    "    \n",
    "    if(LVQ_DEBUG):\n",
    "        print(weights)\n",
    "    for i,branch in enumerate(bHist):\n",
    "        pred = closestVector(branch, i)\n",
    "\n",
    "        if(actualOutput[i] == pred):\n",
    "            pred = 0 if (pred == -1) else 1\n",
    "            etaDiff = [ETA*(x-y) for x,y in zip(branch, weights[i][pred])]\n",
    "\n",
    "            weights[i][pred] = [x+y for x,y in zip(weights[i][pred],etaDiff)]\n",
    "        else:\n",
    "            pred = 0 if (pred == -1) else 1\n",
    "            etaDiff = [ETA*(x-y) for x,y in zip(branch, weights[i][pred])]\n",
    "\n",
    "            weights[i][pred] = [x-y for x,y in zip(weights[i][pred],etaDiff)]"
   ]
  },
  {
   "cell_type": "code",
   "execution_count": null,
   "metadata": {},
   "outputs": [],
   "source": []
  }
 ],
 "metadata": {
  "kernelspec": {
   "display_name": "Python 3",
   "language": "python",
   "name": "python3"
  },
  "language_info": {
   "codemirror_mode": {
    "name": "ipython",
    "version": 3
   },
   "file_extension": ".py",
   "mimetype": "text/x-python",
   "name": "python",
   "nbconvert_exporter": "python",
   "pygments_lexer": "ipython3",
   "version": "3.7.4"
  }
 },
 "nbformat": 4,
 "nbformat_minor": 2
}
